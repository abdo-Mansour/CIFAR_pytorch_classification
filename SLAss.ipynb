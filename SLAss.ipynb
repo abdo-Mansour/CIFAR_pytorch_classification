{
 "cells": [
  {
   "cell_type": "code",
   "execution_count": 1,
   "id": "2d64566f-6311-449d-a779-f9e8e058a2fa",
   "metadata": {
    "ExecuteTime": {
     "end_time": "2024-05-04T11:08:07.229731Z",
     "start_time": "2024-05-04T11:07:34.511633Z"
    }
   },
   "outputs": [
    {
     "name": "stdout",
     "output_type": "stream",
     "text": [
      "Files already downloaded and verified\n",
      "Files already downloaded and verified\n"
     ]
    }
   ],
   "source": [
    "import torch\n",
    "import torch.nn as nn\n",
    "import torch.nn.functional as F\n",
    "import torchvision\n",
    "import torchvision.transforms as transforms\n",
    "import matplotlib.pyplot as plt\n",
    "import numpy as np\n",
    "\n",
    "# Device configuration\n",
    "device = torch.device('cuda' if torch.cuda.is_available() else 'cpu')\n",
    "\n",
    "# Hyper-parameters\n",
    "num_epochs = 10\n",
    "batch_size = 32\n",
    "learning_rate = 0.001\n",
    "\n",
    "# dataset has PILImage images of range [0, 1].\n",
    "# We transform them to Tensors of normalized range [-1, 1]\n",
    "trn_tsf = transforms.Compose([\n",
    "    transforms.Resize((32, 32)),\n",
    "    transforms.RandomRotation(20),\n",
    "    transforms.RandomHorizontalFlip(0.1),\n",
    "    transforms.ToTensor(),\n",
    "    transforms.Normalize((0.4914, 0.4822, 0.4465), (0.247, 0.243, 0.261))\n",
    "])\n",
    "\n",
    "test_tsf = transforms.Compose([\n",
    "    transforms.Resize((32,32)),\n",
    "    transforms.ToTensor(),\n",
    "    transforms.Normalize((0.4914, 0.4822, 0.4465), (0.247, 0.243, 0.261))])\n",
    "\n",
    "# CIFAR10: 60000 32x32 color images in 10 classes, with 6000 images per class\n",
    "train_dataset = torchvision.datasets.CIFAR10(root='./data', train=True,\n",
    "                                        download=True, transform=trn_tsf)\n",
    "\n",
    "test_dataset = torchvision.datasets.CIFAR10(root='./data', train=False,\n",
    "                                       download=True, transform=test_tsf)\n",
    "\n",
    "train_loader = torch.utils.data.DataLoader(train_dataset, batch_size=batch_size,\n",
    "                                          shuffle=True)\n",
    "\n",
    "test_loader = torch.utils.data.DataLoader(test_dataset, batch_size=batch_size,\n",
    "                                         shuffle=False)\n",
    "\n",
    "classes = ('plane', 'car', 'bird', 'cat',\n",
    "           'deer', 'dog', 'frog', 'horse', 'ship', 'truck')\n",
    "\n",
    "def imshow(imgs):\n",
    "    imgs = imgs / 2 + 0.5   # unnormalize\n",
    "    npimgs = imgs.numpy()\n",
    "    plt.imshow(np.transpose(npimgs, (1, 2, 0)))\n",
    "    plt.show()\n",
    "\n",
    "# one batch of random training images\n",
    "# dataiter = iter(train_loader)\n",
    "# images, labels = dataiter.next()\n",
    "# img_grid = torchvision.utils.make_grid(images[0:25], nrow=5)\n",
    "# imshow(img_grid)"
   ]
  },
  {
   "cell_type": "code",
   "execution_count": 5,
   "id": "98f69f9f-e949-4a10-924a-9b1d98ed3fd8",
   "metadata": {},
   "outputs": [
    {
     "data": {
      "text/plain": [
       "(10000, 32, 32, 3)"
      ]
     },
     "execution_count": 5,
     "metadata": {},
     "output_type": "execute_result"
    }
   ],
   "source": [
    "test_dataset.data.shape"
   ]
  },
  {
   "cell_type": "code",
   "execution_count": 24,
   "id": "7e70ca46-ab1c-4bac-9db9-eccecefb4470",
   "metadata": {},
   "outputs": [
    {
     "name": "stdout",
     "output_type": "stream",
     "text": [
      "[1] loss: 1.600\n",
      "[2] loss: 1.327\n",
      "[3] loss: 1.207\n",
      "[4] loss: 1.129\n",
      "[5] loss: 1.065\n",
      "[6] loss: 1.018\n",
      "[7] loss: 0.966\n",
      "[8] loss: 0.947\n",
      "[9] loss: 0.909\n",
      "[10] loss: 0.880\n",
      "[11] loss: 0.857\n",
      "[12] loss: 0.830\n",
      "[13] loss: 0.818\n",
      "[14] loss: 0.794\n",
      "[15] loss: 0.779\n",
      "[16] loss: 0.766\n",
      "[17] loss: 0.759\n",
      "[18] loss: 0.731\n",
      "[19] loss: 0.728\n",
      "[20] loss: 0.717\n",
      "Finished Training\n"
     ]
    }
   ],
   "source": [
    "class ConvNet(nn.Module):\n",
    "    def __init__(self):\n",
    "        super().__init__()\n",
    "        self.cnn1 = nn.Conv2d(in_channels=3, out_channels=32, kernel_size=5, padding=2)\n",
    "        self.maxpool1 = nn.MaxPool2d(kernel_size=2)\n",
    "        self.conv1_bn = nn.BatchNorm2d(32)\n",
    "        self.drop_conv = nn.Dropout(p=0.2)\n",
    "        \n",
    "        #self.conv2 = nn.Conv2d(in_channels=32, out_channels=64, kernel_size=3, stride=1, padding=1)\n",
    "        #self.conv3 = nn.Conv2d(in_channels=64, out_channels=128, kernel_size=3, stride=1, padding=0)\n",
    "        #self.pool = nn.AvgPool2d(2,1)\n",
    "        #self.fc1 = nn.Linear(80000,64)\n",
    "        #self.fc2 = nn.Linear(64, 10)\n",
    "        \n",
    "        self.cnn2 = nn.Conv2d(in_channels = 32, out_channels = 64, kernel_size = 5, padding = 2)\n",
    "        self.maxpool2 = nn.MaxPool2d(kernel_size = 2)\n",
    "        self.conv2_bn = nn.BatchNorm2d(64)\n",
    "\n",
    "        self.cnn3 = nn.Conv2d(in_channels = 64, out_channels = 128, kernel_size = 5, padding = 2)\n",
    "        self.maxpool3 = nn.MaxPool2d(kernel_size = 2)\n",
    "        self.conv3_bn = nn.BatchNorm2d(128)\n",
    "\n",
    "        # Hidden layer 1\n",
    "        self.fc1 = nn.Linear(128 * 4 * 4, 1000) \n",
    "        self.drop = nn.Dropout(p=0.5)\n",
    "        self.fc1_bn = nn.BatchNorm1d(1000)\n",
    "        \n",
    "        # Hidden layer 2\n",
    "        self.fc2 = nn.Linear(1000, 1000)\n",
    "        self.fc2_bn = nn.BatchNorm1d(1000)\n",
    "\n",
    "        # Hidden layer 3\n",
    "        self.fc3 = nn.Linear(1000, 1000)\n",
    "        self.fc3_bn = nn.BatchNorm1d(1000)\n",
    "        \n",
    "        # Hidden layer 4\n",
    "        self.fc4 = nn.Linear(1000, 1000)\n",
    "        self.fc4_bn = nn.BatchNorm1d(1000)\n",
    "        \n",
    "        # Final layer\n",
    "        self.fc5 = nn.Linear(1000, 10)\n",
    "        self.fc5_bn = nn.BatchNorm1d(10)\n",
    "\n",
    "    def forward(self, x):\n",
    "        x = self.cnn1(x)\n",
    "        x = self.conv1_bn(x)\n",
    "        x = self.maxpool1(x)\n",
    "        x = self.drop_conv(x)\n",
    "        #\n",
    "        x = self.cnn2(x)\n",
    "        x = self.conv2_bn(x)\n",
    "        x = torch.relu(x)\n",
    "        x = self.maxpool2(x)\n",
    "        x = self.drop_conv(x)\n",
    "        #\n",
    "        x = self.cnn3(x)\n",
    "        x = self.conv3_bn(x)\n",
    "        x = torch.relu(x)\n",
    "        x = self.maxpool3(x)\n",
    "        x = self.drop_conv(x)\n",
    "        #\n",
    "        x = x.view(x.size(0), -1)\n",
    "        x = self.fc1(x)\n",
    "        x = self.fc1_bn(x)\n",
    "        #\n",
    "        x = F.relu(self.drop(x))\n",
    "        x = self.fc2(x)\n",
    "        x = self.fc2_bn(x)\n",
    "        #\n",
    "        x = F.relu(self.drop(x))\n",
    "        x = self.fc3(x)\n",
    "        x = self.fc3_bn(x)\n",
    "        #\n",
    "        x = F.relu(self.drop(x))\n",
    "        x = self.fc4(x)\n",
    "        x = self.fc4_bn(x)\n",
    "\n",
    "        x = F.relu(self.drop(x))\n",
    "        x = self.fc5(x)\n",
    "        x = self.fc5_bn(x)\n",
    "        \n",
    "        return(x)\n",
    "        \n",
    "        #x = F.relu(self.conv1(x))\n",
    "        #x = self.pool(x)\n",
    "        #x = F.relu(self.conv2(x))\n",
    "        #x = F.relu(self.conv3(x))\n",
    "        #x = self.pool(x)\n",
    "        #x = torch.flatten(x, 1)\n",
    "        #x = F.relu(self.fc1(x))\n",
    "        #x = self.fc2(x)\n",
    "        #return x\n",
    "model = ConvNet().to(device)\n",
    "num_epochs = 20\n",
    "criterion = nn.CrossEntropyLoss()\n",
    "optimizer = torch.optim.Adam(model.parameters(), lr=learning_rate)\n",
    "n_total_steps = len(train_loader)\n",
    "for epoch in range(num_epochs):\n",
    "    running_loss = 0.0\n",
    "    for i, (images, labels) in enumerate(train_loader):\n",
    "        images = images.to(device)\n",
    "        labels = labels.to(device)\n",
    "        outputs = model(images)\n",
    "        loss = criterion(outputs, labels)\n",
    "        loss.backward()\n",
    "        optimizer.step()\n",
    "        optimizer.zero_grad()\n",
    "        running_loss += loss.item()\n",
    "    print(f'[{epoch + 1}] loss: {running_loss / n_total_steps:.3f}')\n",
    "print('Finished Training')\n",
    "PATH = './cnn.pth'\n",
    "torch.save(model.state_dict(), PATH)"
   ]
  },
  {
   "cell_type": "code",
   "execution_count": 25,
   "id": "3dc5ccba-6b2c-4d2f-9f5a-4e87dfbe825b",
   "metadata": {},
   "outputs": [],
   "source": [
    "def evaluate_accuracy(model, dataloader, device):\n",
    "    model.eval()  # Set the model to evaluation mode\n",
    "    correct = 0\n",
    "    total = 0\n",
    "\n",
    "    with torch.no_grad():\n",
    "        for images, labels in dataloader:\n",
    "            images, labels = images.to(device), labels.to(device)\n",
    "\n",
    "            # Forward pass\n",
    "            outputs = model(images)\n",
    "\n",
    "            # Get predicted labels\n",
    "            _, predicted = torch.max(outputs, 1)\n",
    "\n",
    "            # Count correct predictions\n",
    "            correct += (predicted == labels).sum().item()\n",
    "\n",
    "            # Count total predictions\n",
    "            total += labels.size(0)\n",
    "\n",
    "    # Calculate accuracy\n",
    "    accuracy = correct / total\n",
    "    return accuracy"
   ]
  },
  {
   "cell_type": "code",
   "execution_count": 27,
   "id": "774b778b-1fa0-4cd7-a756-c0260b8e7ee4",
   "metadata": {},
   "outputs": [
    {
     "data": {
      "text/plain": [
       "0.845"
      ]
     },
     "execution_count": 27,
     "metadata": {},
     "output_type": "execute_result"
    }
   ],
   "source": [
    "acc = evaluate_accuracy(model, train_loader, device)\n",
    "acc"
   ]
  },
  {
   "cell_type": "code",
   "execution_count": 28,
   "id": "3c5e08cd-f5ea-4da1-8ac6-7f673022d445",
   "metadata": {},
   "outputs": [
    {
     "data": {
      "text/plain": [
       "0.8061"
      ]
     },
     "execution_count": 28,
     "metadata": {},
     "output_type": "execute_result"
    }
   ],
   "source": [
    "acc = evaluate_accuracy(model, test_loader, device)\n",
    "acc"
   ]
  },
  {
   "cell_type": "code",
   "execution_count": null,
   "id": "fae2e9b2-78cd-4552-a13d-c35f59ca9ba5",
   "metadata": {},
   "outputs": [],
   "source": []
  }
 ],
 "metadata": {
  "kernelspec": {
   "display_name": "Python 3 (ipykernel)",
   "language": "python",
   "name": "python3"
  },
  "language_info": {
   "codemirror_mode": {
    "name": "ipython",
    "version": 3
   },
   "file_extension": ".py",
   "mimetype": "text/x-python",
   "name": "python",
   "nbconvert_exporter": "python",
   "pygments_lexer": "ipython3",
   "version": "3.11.7"
  }
 },
 "nbformat": 4,
 "nbformat_minor": 5
}
